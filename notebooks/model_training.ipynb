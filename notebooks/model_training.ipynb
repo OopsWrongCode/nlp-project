{
 "cells": [
  {
   "cell_type": "markdown",
   "metadata": {},
   "source": [
    "This notebook demonstrates steps of creating a pipeline of model training and testing"
   ]
  },
  {
   "cell_type": "markdown",
   "metadata": {},
   "source": [
    "<!-- %pip install -q transformers datasets evaluate -->"
   ]
  },
  {
   "cell_type": "code",
   "execution_count": 1,
   "metadata": {},
   "outputs": [
    {
     "name": "stdout",
     "output_type": "stream",
     "text": [
      "Cloning into 'nlp-project'...\n",
      "remote: Enumerating objects: 178, done.\u001b[K\n",
      "remote: Counting objects: 100% (94/94), done.\u001b[K\n",
      "remote: Compressing objects: 100% (62/62), done.\u001b[K\n",
      "remote: Total 178 (delta 40), reused 75 (delta 27), pack-reused 84 (from 1)\u001b[K\n",
      "Receiving objects: 100% (178/178), 46.86 MiB | 21.00 MiB/s, done.\n",
      "Resolving deltas: 100% (56/56), done.\n"
     ]
    }
   ],
   "source": [
    "!git clone https://github.com/OopsWrongCode/nlp-project.git"
   ]
  },
  {
   "cell_type": "code",
   "execution_count": 2,
   "metadata": {},
   "outputs": [
    {
     "name": "stdout",
     "output_type": "stream",
     "text": [
      "/kaggle/working/nlp-project\n"
     ]
    }
   ],
   "source": [
    "%cd nlp-project/"
   ]
  },
  {
   "cell_type": "code",
   "execution_count": 3,
   "metadata": {},
   "outputs": [
    {
     "name": "stdout",
     "output_type": "stream",
     "text": [
      "Note: you may need to restart the kernel to use updated packages.\n"
     ]
    }
   ],
   "source": [
    "%pip install -q transformers"
   ]
  },
  {
   "cell_type": "code",
   "execution_count": 4,
   "metadata": {},
   "outputs": [],
   "source": [
    "import random\n",
    "import torch.nn as nn\n",
    "import torch\n",
    "from torch.utils.data import Dataset, DataLoader\n",
    "import pandas as pd\n",
    "import numpy as np\n",
    "import matplotlib.pyplot as plt\n",
    "from sklearn.preprocessing import LabelEncoder\n",
    "import warnings\n",
    "warnings.filterwarnings('ignore')\n",
    "# from datasets import Dataset\n",
    "\n",
    "seed = 42\n",
    "random.seed(seed)\n",
    "np.random.seed(seed)\n",
    "torch.manual_seed(seed)\n",
    "torch.cuda.manual_seed(seed)\n",
    "torch.backends.cudnn.deterministic = True"
   ]
  },
  {
   "cell_type": "code",
   "execution_count": 5,
   "metadata": {},
   "outputs": [],
   "source": [
    "BATCH_SIZE = 32\n",
    "MAX_LEN = 64  # +2 for ([CLS], [SEP])\n",
    "DEVICE = torch.device('cuda' if torch.cuda.is_available() else 'cpu')"
   ]
  },
  {
   "cell_type": "code",
   "execution_count": 6,
   "metadata": {},
   "outputs": [],
   "source": [
    "train = pd.read_csv('/kaggle/working/nlp-project/data/train.csv')\n",
    "test = pd.read_csv('/kaggle/working/nlp-project/data/test.csv')\n",
    "validation = pd.read_csv('/kaggle/working/nlp-project/data/valid.csv')"
   ]
  },
  {
   "cell_type": "code",
   "execution_count": 7,
   "metadata": {},
   "outputs": [],
   "source": [
    "train['token_count'] = [len(sentence.split()) for sentence in train['text']]\n",
    "train['text_length'] = [len(seq) for seq in train['text']]"
   ]
  },
  {
   "cell_type": "code",
   "execution_count": 8,
   "metadata": {},
   "outputs": [
    {
     "data": {
      "text/html": [
       "<div>\n",
       "<style scoped>\n",
       "    .dataframe tbody tr th:only-of-type {\n",
       "        vertical-align: middle;\n",
       "    }\n",
       "\n",
       "    .dataframe tbody tr th {\n",
       "        vertical-align: top;\n",
       "    }\n",
       "\n",
       "    .dataframe thead th {\n",
       "        text-align: right;\n",
       "    }\n",
       "</style>\n",
       "<table border=\"1\" class=\"dataframe\">\n",
       "  <thead>\n",
       "    <tr style=\"text-align: right;\">\n",
       "      <th></th>\n",
       "      <th>text</th>\n",
       "      <th>label</th>\n",
       "      <th>token_count</th>\n",
       "      <th>text_length</th>\n",
       "    </tr>\n",
       "  </thead>\n",
       "  <tbody>\n",
       "    <tr>\n",
       "      <th>0</th>\n",
       "      <td>['didnt', 'feel', 'humiliated']</td>\n",
       "      <td>sadness</td>\n",
       "      <td>3</td>\n",
       "      <td>31</td>\n",
       "    </tr>\n",
       "    <tr>\n",
       "      <th>1</th>\n",
       "      <td>['can', 'go', 'from', 'feeling', 'so', 'hopele...</td>\n",
       "      <td>sadness</td>\n",
       "      <td>20</td>\n",
       "      <td>167</td>\n",
       "    </tr>\n",
       "    <tr>\n",
       "      <th>2</th>\n",
       "      <td>['im', 'grabbing', 'minute', 'to', 'post', 'fe...</td>\n",
       "      <td>anger</td>\n",
       "      <td>8</td>\n",
       "      <td>69</td>\n",
       "    </tr>\n",
       "    <tr>\n",
       "      <th>3</th>\n",
       "      <td>['am', 'ever', 'feeling', 'nostalgic', 'about'...</td>\n",
       "      <td>love</td>\n",
       "      <td>16</td>\n",
       "      <td>137</td>\n",
       "    </tr>\n",
       "    <tr>\n",
       "      <th>4</th>\n",
       "      <td>['am', 'feeling', 'grouchy']</td>\n",
       "      <td>anger</td>\n",
       "      <td>3</td>\n",
       "      <td>28</td>\n",
       "    </tr>\n",
       "  </tbody>\n",
       "</table>\n",
       "</div>"
      ],
      "text/plain": [
       "                                                text    label  token_count  \\\n",
       "0                    ['didnt', 'feel', 'humiliated']  sadness            3   \n",
       "1  ['can', 'go', 'from', 'feeling', 'so', 'hopele...  sadness           20   \n",
       "2  ['im', 'grabbing', 'minute', 'to', 'post', 'fe...    anger            8   \n",
       "3  ['am', 'ever', 'feeling', 'nostalgic', 'about'...     love           16   \n",
       "4                       ['am', 'feeling', 'grouchy']    anger            3   \n",
       "\n",
       "   text_length  \n",
       "0           31  \n",
       "1          167  \n",
       "2           69  \n",
       "3          137  \n",
       "4           28  "
      ]
     },
     "execution_count": 8,
     "metadata": {},
     "output_type": "execute_result"
    }
   ],
   "source": [
    "train.head()"
   ]
  },
  {
   "cell_type": "code",
   "execution_count": 9,
   "metadata": {},
   "outputs": [
    {
     "data": {
      "text/html": [
       "<div>\n",
       "<style scoped>\n",
       "    .dataframe tbody tr th:only-of-type {\n",
       "        vertical-align: middle;\n",
       "    }\n",
       "\n",
       "    .dataframe tbody tr th {\n",
       "        vertical-align: top;\n",
       "    }\n",
       "\n",
       "    .dataframe thead th {\n",
       "        text-align: right;\n",
       "    }\n",
       "</style>\n",
       "<table border=\"1\" class=\"dataframe\">\n",
       "  <thead>\n",
       "    <tr style=\"text-align: right;\">\n",
       "      <th></th>\n",
       "      <th>text</th>\n",
       "      <th>label</th>\n",
       "    </tr>\n",
       "  </thead>\n",
       "  <tbody>\n",
       "    <tr>\n",
       "      <th>0</th>\n",
       "      <td>['im', 'feeling', 'quite', 'sad', 'and', 'sorr...</td>\n",
       "      <td>sadness</td>\n",
       "    </tr>\n",
       "    <tr>\n",
       "      <th>1</th>\n",
       "      <td>['feel', 'like', 'am', 'still', 'looking', 'at...</td>\n",
       "      <td>sadness</td>\n",
       "    </tr>\n",
       "    <tr>\n",
       "      <th>2</th>\n",
       "      <td>['feel', 'like', 'faithful', 'servant']</td>\n",
       "      <td>love</td>\n",
       "    </tr>\n",
       "    <tr>\n",
       "      <th>3</th>\n",
       "      <td>['am', 'just', 'feeling', 'cranky', 'and', 'bl...</td>\n",
       "      <td>anger</td>\n",
       "    </tr>\n",
       "    <tr>\n",
       "      <th>4</th>\n",
       "      <td>['can', 'have', 'for', 'treat', 'or', 'if', 'a...</td>\n",
       "      <td>joy</td>\n",
       "    </tr>\n",
       "  </tbody>\n",
       "</table>\n",
       "</div>"
      ],
      "text/plain": [
       "                                                text    label\n",
       "0  ['im', 'feeling', 'quite', 'sad', 'and', 'sorr...  sadness\n",
       "1  ['feel', 'like', 'am', 'still', 'looking', 'at...  sadness\n",
       "2            ['feel', 'like', 'faithful', 'servant']     love\n",
       "3  ['am', 'just', 'feeling', 'cranky', 'and', 'bl...    anger\n",
       "4  ['can', 'have', 'for', 'treat', 'or', 'if', 'a...      joy"
      ]
     },
     "execution_count": 9,
     "metadata": {},
     "output_type": "execute_result"
    }
   ],
   "source": [
    "validation.head()"
   ]
  },
  {
   "cell_type": "code",
   "execution_count": 10,
   "metadata": {},
   "outputs": [
    {
     "data": {
      "text/html": [
       "<div>\n",
       "<style scoped>\n",
       "    .dataframe tbody tr th:only-of-type {\n",
       "        vertical-align: middle;\n",
       "    }\n",
       "\n",
       "    .dataframe tbody tr th {\n",
       "        vertical-align: top;\n",
       "    }\n",
       "\n",
       "    .dataframe thead th {\n",
       "        text-align: right;\n",
       "    }\n",
       "</style>\n",
       "<table border=\"1\" class=\"dataframe\">\n",
       "  <thead>\n",
       "    <tr style=\"text-align: right;\">\n",
       "      <th></th>\n",
       "      <th>text</th>\n",
       "      <th>label</th>\n",
       "    </tr>\n",
       "  </thead>\n",
       "  <tbody>\n",
       "    <tr>\n",
       "      <th>0</th>\n",
       "      <td>['im', 'feeling', 'rather', 'rotten', 'so', 'i...</td>\n",
       "      <td>sadness</td>\n",
       "    </tr>\n",
       "    <tr>\n",
       "      <th>1</th>\n",
       "      <td>['im', 'updating', 'my', 'blog', 'because', 'f...</td>\n",
       "      <td>sadness</td>\n",
       "    </tr>\n",
       "    <tr>\n",
       "      <th>2</th>\n",
       "      <td>['never', 'make', 'her', 'separate', 'from', '...</td>\n",
       "      <td>sadness</td>\n",
       "    </tr>\n",
       "    <tr>\n",
       "      <th>3</th>\n",
       "      <td>['left', 'with', 'my', 'bouquet', 'of', 'red',...</td>\n",
       "      <td>joy</td>\n",
       "    </tr>\n",
       "    <tr>\n",
       "      <th>4</th>\n",
       "      <td>['was', 'feeling', 'little', 'vain', 'when', '...</td>\n",
       "      <td>sadness</td>\n",
       "    </tr>\n",
       "  </tbody>\n",
       "</table>\n",
       "</div>"
      ],
      "text/plain": [
       "                                                text    label\n",
       "0  ['im', 'feeling', 'rather', 'rotten', 'so', 'i...  sadness\n",
       "1  ['im', 'updating', 'my', 'blog', 'because', 'f...  sadness\n",
       "2  ['never', 'make', 'her', 'separate', 'from', '...  sadness\n",
       "3  ['left', 'with', 'my', 'bouquet', 'of', 'red',...      joy\n",
       "4  ['was', 'feeling', 'little', 'vain', 'when', '...  sadness"
      ]
     },
     "execution_count": 10,
     "metadata": {},
     "output_type": "execute_result"
    }
   ],
   "source": [
    "test.head()"
   ]
  },
  {
   "cell_type": "code",
   "execution_count": 11,
   "metadata": {},
   "outputs": [],
   "source": [
    "mbti_types = train['label'].unique().tolist()\n",
    "\n",
    "label_encoder = LabelEncoder()\n",
    "label_encoder.fit(mbti_types)\n",
    "\n",
    "train['label'] = label_encoder.transform(train['label'])\n",
    "validation['label'] = label_encoder.transform(validation['label'])\n",
    "test['label'] = label_encoder.transform(test['label'])\n"
   ]
  },
  {
   "cell_type": "code",
   "execution_count": 12,
   "metadata": {},
   "outputs": [],
   "source": [
    "class MBTIDataset(Dataset):\n",
    "    def __init__(self, texts, labels=None, tokenizer=None, max_len=128):\n",
    "        self.texts = texts\n",
    "        self.labels = labels\n",
    "        self.tokenizer = tokenizer\n",
    "        self.max_len = max_len\n",
    "\n",
    "    def __getitem__(self, index):\n",
    "        text = str(self.texts[index])\n",
    "        encoding = self.tokenizer(\n",
    "            text,\n",
    "            truncation=True,\n",
    "            padding='max_length',\n",
    "            max_length=self.max_len,\n",
    "            return_tensors='pt'\n",
    "        )\n",
    "\n",
    "        if self.labels is not None:\n",
    "            label = self.labels[index]\n",
    "            return {\n",
    "                'input_ids': encoding['input_ids'].squeeze(0),  # (max_len)\n",
    "                'attention_mask': encoding['attention_mask'].squeeze(0),  # (max_len)\n",
    "                'labels': torch.tensor(label, dtype=torch.long)\n",
    "            }\n",
    "        else:\n",
    "            return {\n",
    "                'input_ids': encoding['input_ids'].squeeze(0),  # (max_len)\n",
    "                'attention_mask': encoding['attention_mask'].squeeze(0),  # (max_len)\n",
    "            }\n",
    "\n",
    "    def __len__(self):\n",
    "        return len(self.texts)"
   ]
  },
  {
   "cell_type": "code",
   "execution_count": 13,
   "metadata": {},
   "outputs": [
    {
     "name": "stdout",
     "output_type": "stream",
     "text": [
      "Max len = 60\n",
      "Min len = 2\n",
      "Avg len = 17.02\n"
     ]
    }
   ],
   "source": [
    "print(f\"Max len = {np.max(train['token_count'])}\\nMin len = {np.min(train['token_count'])}\\nAvg len = {np.round(np.mean(train['token_count']), 2)}\")"
   ]
  },
  {
   "cell_type": "code",
   "execution_count": 14,
   "metadata": {},
   "outputs": [
    {
     "data": {
      "application/vnd.jupyter.widget-view+json": {
       "model_id": "f058467db6064527b5e38424c942771e",
       "version_major": 2,
       "version_minor": 0
      },
      "text/plain": [
       "config.json:   0%|          | 0.00/481 [00:00<?, ?B/s]"
      ]
     },
     "metadata": {},
     "output_type": "display_data"
    },
    {
     "data": {
      "application/vnd.jupyter.widget-view+json": {
       "model_id": "10d63e3764bd47f287f5881f38692b96",
       "version_major": 2,
       "version_minor": 0
      },
      "text/plain": [
       "model.safetensors:   0%|          | 0.00/499M [00:00<?, ?B/s]"
      ]
     },
     "metadata": {},
     "output_type": "display_data"
    },
    {
     "name": "stderr",
     "output_type": "stream",
     "text": [
      "Some weights of RobertaModel were not initialized from the model checkpoint at roberta-base and are newly initialized: ['roberta.pooler.dense.bias', 'roberta.pooler.dense.weight']\n",
      "You should probably TRAIN this model on a down-stream task to be able to use it for predictions and inference.\n"
     ]
    },
    {
     "data": {
      "application/vnd.jupyter.widget-view+json": {
       "model_id": "b581ed6eb61a417fbe050f43e67ea1a3",
       "version_major": 2,
       "version_minor": 0
      },
      "text/plain": [
       "tokenizer_config.json:   0%|          | 0.00/25.0 [00:00<?, ?B/s]"
      ]
     },
     "metadata": {},
     "output_type": "display_data"
    },
    {
     "data": {
      "application/vnd.jupyter.widget-view+json": {
       "model_id": "3b74d7cb760f43af931303929c724f3c",
       "version_major": 2,
       "version_minor": 0
      },
      "text/plain": [
       "vocab.json:   0%|          | 0.00/899k [00:00<?, ?B/s]"
      ]
     },
     "metadata": {},
     "output_type": "display_data"
    },
    {
     "data": {
      "application/vnd.jupyter.widget-view+json": {
       "model_id": "c93c0307f724441aa15f7f3b05d7d2c8",
       "version_major": 2,
       "version_minor": 0
      },
      "text/plain": [
       "merges.txt:   0%|          | 0.00/456k [00:00<?, ?B/s]"
      ]
     },
     "metadata": {},
     "output_type": "display_data"
    },
    {
     "data": {
      "application/vnd.jupyter.widget-view+json": {
       "model_id": "1bd831eef07c42ab8fa94553364ff22c",
       "version_major": 2,
       "version_minor": 0
      },
      "text/plain": [
       "tokenizer.json:   0%|          | 0.00/1.36M [00:00<?, ?B/s]"
      ]
     },
     "metadata": {},
     "output_type": "display_data"
    }
   ],
   "source": [
    "from transformers import AutoModel, AutoTokenizer\n",
    "\n",
    "# bert = AutoModel.from_pretrained(\"bert-base-uncased\").to(DEVICE)\n",
    "# bert = AutoModel.from_pretrained(\"distilbert-base-uncased\").to(DEVICE)\n",
    "\n",
    "# tokenizer = AutoTokenizer.from_pretrained(\"bert-base-uncased\")\n",
    "# tokenizer = AutoTokenizer.from_pretrained(\"distilbert-base-uncased\")\n",
    "\n",
    "bert = AutoModel.from_pretrained(\"roberta-base\").to(DEVICE)\n",
    "tokenizer = AutoTokenizer.from_pretrained(\"roberta-base\")"
   ]
  },
  {
   "cell_type": "code",
   "execution_count": 15,
   "metadata": {},
   "outputs": [],
   "source": [
    "train_dataset = MBTIDataset(texts=train['text'].tolist(), labels=train['label'].tolist(), tokenizer=tokenizer, max_len=MAX_LEN)\n",
    "test_dataset = MBTIDataset(texts=test['text'].tolist(),labels=test['label'].tolist(), tokenizer=tokenizer, max_len=MAX_LEN)\n",
    "validation_dataset = MBTIDataset(texts=validation['text'].tolist(), labels=validation['label'].tolist(), tokenizer=tokenizer, max_len=MAX_LEN)\n",
    "\n",
    "\n",
    "train_loader = DataLoader(train_dataset, batch_size=BATCH_SIZE, shuffle=True)\n",
    "test_loader = DataLoader(test_dataset, batch_size=BATCH_SIZE, shuffle=False)\n",
    "validation_loader = DataLoader(validation_dataset, batch_size=BATCH_SIZE, shuffle=False)"
   ]
  },
  {
   "cell_type": "markdown",
   "metadata": {},
   "source": [
    "For regularization, we employ two commonly used\n",
    "techniques: dropout (Hinton et al., 2012) and L2\n",
    "weight regularization. We apply dropout to prevent co-adaptation. In our model, we either apply\n",
    "dropout to word vectors before feeding the sequence\n",
    "of words into the convolutional layer or to the output\n",
    "of LSTM before the softmax layer. The L2 regularization is applied to the weight of the softmax layer. (https://arxiv.org/pdf/1511.08630)"
   ]
  },
  {
   "cell_type": "code",
   "execution_count": 16,
   "metadata": {},
   "outputs": [],
   "source": [
    "class MyLSTM(nn.Module):\n",
    "    def __init__(self, bert_embedding_dim=768,embedding_dim=256, hidden_dim=128, output_dim=6, num_layers=1, bidirectional=False, dropout=0.3, fc_dropout=0.3, input_dropout=0.2):\n",
    "        super(MyLSTM, self).__init__()\n",
    "\n",
    "        self.embedding_projection = nn.Linear(bert_embedding_dim, embedding_dim)\n",
    "        self.layer_norm = nn.LayerNorm(embedding_dim)\n",
    "        self.input_dropout = nn.Dropout(input_dropout) # \n",
    "\n",
    "        self.lstm = nn.LSTM(\n",
    "            input_size=embedding_dim, # 768\n",
    "            hidden_size=hidden_dim,\n",
    "            num_layers=num_layers,\n",
    "            bidirectional=bidirectional,\n",
    "            dropout=dropout if num_layers > 1 else 0,\n",
    "            batch_first=True\n",
    "        )\n",
    "        # LAYER 2: Fully-connected\n",
    "        self.fc_dropout = nn.Dropout(fc_dropout)\n",
    "        # self.fc = nn.Linear(\n",
    "        #     hidden_dim * (2 if bidirectional else 1),\n",
    "        #     output_dim\n",
    "        # )\n",
    "        self.fc = nn.Sequential(\n",
    "            nn.GELU(),\n",
    "            nn.Linear(hidden_dim * (2 if bidirectional else 1), output_dim)\n",
    "        )\n",
    "\n",
    "    def forward(self, bert_embeddings):  # [batch_size, seq_len, embedding_dim]\n",
    "\n",
    "        # Dropout on BERT-embeddings\n",
    "        x = self.embedding_projection(bert_embeddings)\n",
    "        x = self.layer_norm(x)\n",
    "        x = self.input_dropout(x)\n",
    "\n",
    "        lstm_output, (h_n, c_n) = self.lstm(x)\n",
    "\n",
    "        if self.lstm.bidirectional:\n",
    "            h_final = torch.cat((h_n[-2], h_n[-1]), dim=1)\n",
    "        else:\n",
    "            h_final = h_n[-1]\n",
    "\n",
    "        h_final = self.fc_dropout(h_final)\n",
    "        out = self.fc(h_final)\n",
    "        return out"
   ]
  },
  {
   "cell_type": "code",
   "execution_count": 17,
   "metadata": {},
   "outputs": [],
   "source": [
    "class MyGRU(nn.Module):\n",
    "    def __init__(self, bert_embedding_dim=768, embedding_dim=256, hidden_dim=128, output_dim=6, num_layers=2, bidirectional=False, dropout=0.3, fc_dropout=0.1, input_dropout=0.2):\n",
    "        super(MyGRU, self).__init__()\n",
    "\n",
    "        # reduce bert embeds to embedding_dim\n",
    "        self.embedding_projection = nn.Linear(bert_embedding_dim, embedding_dim)\n",
    "        self.input_dropout = nn.Dropout(input_dropout)\n",
    "        self.norm = nn.LayerNorm(embedding_dim)\n",
    "\n",
    "        # GRU layer\n",
    "        self.gru = nn.GRU(\n",
    "            input_size=embedding_dim,\n",
    "            hidden_size=hidden_dim,\n",
    "            num_layers=num_layers,\n",
    "            bidirectional=bidirectional,\n",
    "            dropout=dropout if num_layers > 1 else 0,\n",
    "            batch_first=True\n",
    "        )\n",
    "        \n",
    "        self.fc_dropout = nn.Dropout(fc_dropout)\n",
    "        self.fc = nn.Linear(hidden_dim * (2 if bidirectional else 1), output_dim)\n",
    "\n",
    "    def forward(self, x):\n",
    "        # x shape: (batch_size, sequence_length, bert_embedding_dim=768)\n",
    "        x = self.embedding_projection(x)  # Project to (batch_size, sequence_length, embedding_dim=256)\n",
    "        x = self.norm(x) \n",
    "        x = self.input_dropout(x)\n",
    "        # Pass through GRU\n",
    "        gru_output, h_n = self.gru(x)\n",
    "\n",
    "        # Extract final hidden state\n",
    "        if self.gru.bidirectional:\n",
    "            h_final = torch.cat((h_n[-2], h_n[-1]), dim=1)\n",
    "        else:\n",
    "            h_final = h_n[-1]\n",
    "\n",
    "        # Apply dropout and FC layer\n",
    "        h_final = self.fc_dropout(h_final)\n",
    "        out = self.fc(h_final)\n",
    "        return out"
   ]
  },
  {
   "cell_type": "code",
   "execution_count": 18,
   "metadata": {},
   "outputs": [],
   "source": [
    "# C-LSTM: https://arxiv.org/pdf/1511.08630\n",
    "\n",
    "class HybridNN(nn.Module):\n",
    "    def __init__(self, embedding_dim=768, conv_out_channels=256, kernel_size=3, \n",
    "                 hidden_dim=256, output_dim=6, lstm_layers=2, bidirectional=True, \n",
    "                 dropout=0.4, fc_dropout=0.2, input_dropout=0.1):\n",
    "        super(HybridNN, self).__init__()\n",
    "\n",
    "        self.input_dropout = nn.Dropout(input_dropout)\n",
    "\n",
    "        # CNN block\n",
    "        self.conv1 = nn.Conv1d(in_channels=embedding_dim,\n",
    "                               out_channels=conv_out_channels,\n",
    "                               kernel_size=kernel_size,\n",
    "                               padding=1)\n",
    "        self.conv2 = nn.Conv1d(in_channels=conv_out_channels,\n",
    "                               out_channels=conv_out_channels,\n",
    "                               kernel_size=kernel_size,\n",
    "                               padding=1)\n",
    "\n",
    "        self.spatial_dropout = nn.Dropout2d(0.3)\n",
    "        self.relu = nn.ReLU()\n",
    "\n",
    "        # LSTM\n",
    "        self.lstm = nn.LSTM(input_size=conv_out_channels,\n",
    "                            hidden_size=hidden_dim,\n",
    "                            num_layers=lstm_layers,\n",
    "                            bidirectional=bidirectional,\n",
    "                            dropout=dropout if lstm_layers > 1 else 0,\n",
    "                            batch_first=True)\n",
    "\n",
    "        self.attn_linear = nn.Linear(hidden_dim * (2 if bidirectional else 1), 1)\n",
    "\n",
    "        # Output\n",
    "        self.fc_dropout = nn.Dropout(fc_dropout)\n",
    "        self.fc = nn.Linear(hidden_dim * (2 if bidirectional else 1), output_dim)\n",
    "\n",
    "    def forward(self, embeddings):\n",
    "        # Dropout input\n",
    "        x = self.input_dropout(embeddings)  # [batch_size, seq_len, embedding_dim]\n",
    "        # Conv1D\n",
    "        x = x.permute(0, 2, 1)                 # [B, seq, emb]\n",
    "        x = self.relu(self.conv1(x))\n",
    "        x = self.relu(self.conv2(x))\n",
    "        x = x.permute(0, 2, 1)                 # LSTM\n",
    "        x = self.spatial_dropout(x) \n",
    "\n",
    "\n",
    "        # LSTM\n",
    "        lstm_out, _ = self.lstm(x)  # [batch_size, seq_len, hidden_dim*2]\n",
    "\n",
    "        #attention mechanism\n",
    "        attn_weights = torch.softmax(self.attn_linear(lstm_out), dim=1)  # [batch_size, seq_len, 1]\n",
    "        attn_output = torch.sum(lstm_out * attn_weights, dim=1)  # [batch_size, hidden_dim*2]\n",
    "\n",
    "        # FC\n",
    "        out = self.fc_dropout(attn_output)\n",
    "        out = self.fc(out)\n",
    "\n",
    "        return out"
   ]
  },
  {
   "cell_type": "code",
   "execution_count": 19,
   "metadata": {},
   "outputs": [],
   "source": [
    "import copy\n",
    "\n",
    "class EarlyStopper:\n",
    "    def __init__(self, models, patience=5, min_delta=0.001, restore_best_weights=True, save_weights=False):\n",
    "        self.models = models # list for model + tokenizer (bert alike)\n",
    "        self.patience = patience\n",
    "        self.min_delta = min_delta\n",
    "        self.counter = 0\n",
    "        self.min_validation_loss = float('inf')\n",
    "        self.best_weights = None\n",
    "        self.restore_best_weights = restore_best_weights\n",
    "        self.save_weights = save_weights\n",
    "\n",
    "    def early_stop(self, validation_loss):\n",
    "        if validation_loss < self.min_validation_loss - self.min_delta:\n",
    "            self.min_validation_loss = validation_loss\n",
    "            self.counter = 0\n",
    "            if self.restore_best_weights:\n",
    "                self.best_weights = [copy.deepcopy(model.state_dict()) for model in self.models]\n",
    "\n",
    "        else:\n",
    "            self.counter += 1\n",
    "            if self.counter >= self.patience:\n",
    "                if self.restore_best_weights and self.best_weights is not None:\n",
    "                    for model, weights in zip(self.models, self.best_weights):\n",
    "                        model.load_state_dict(weights)\n",
    "                    if self.save_weights:\n",
    "                        for model, weights in zip(self.models, self.best_weights):\n",
    "                            model_name = model.__class__.__name__\n",
    "                            torch.save(weights, f'{model_name}_best_weights.pt')\n",
    "                            print(f\"Weights for {model_name} have been saved\")\n",
    "                return True\n",
    "\n",
    "        return False\n",
    "\n",
    "# source: https://stackoverflow.com/questions/71998978/early-stopping-in-pytorch"
   ]
  },
  {
   "cell_type": "code",
   "execution_count": 20,
   "metadata": {},
   "outputs": [],
   "source": [
    "from sklearn.utils.class_weight import compute_class_weight\n",
    "\n",
    "class_weights = compute_class_weight('balanced', classes=np.unique(train.label), y=train.label)\n",
    "class_weights = torch.tensor(class_weights, dtype=torch.float).to(DEVICE)"
   ]
  },
  {
   "cell_type": "code",
   "execution_count": 21,
   "metadata": {},
   "outputs": [],
   "source": [
    "class_weights[5] = class_weights[5] * 1.18"
   ]
  },
  {
   "cell_type": "code",
   "execution_count": 22,
   "metadata": {},
   "outputs": [
    {
     "data": {
      "text/plain": [
       "tensor([1.2350, 1.3769, 0.4975, 2.0489, 0.5706, 5.5292], device='cuda:0')"
      ]
     },
     "execution_count": 22,
     "metadata": {},
     "output_type": "execute_result"
    }
   ],
   "source": [
    "class_weights"
   ]
  },
  {
   "cell_type": "code",
   "execution_count": 23,
   "metadata": {},
   "outputs": [],
   "source": [
    "import torch.optim as optim\n",
    "from torch.optim.lr_scheduler import ReduceLROnPlateau, CosineAnnealingWarmRestarts\n",
    "from transformers import AdamW\n",
    "\n",
    "loss_fn = nn.CrossEntropyLoss(weight=class_weights)\n",
    "\n",
    "# VOCAB_SIZE = len(tokenizer)\n",
    "\n",
    "gru_model = MyGRU(embedding_dim=128, hidden_dim=128, output_dim=6, num_layers=2, dropout=0.4,fc_dropout=0.3, bidirectional=True, input_dropout=0.2).to(DEVICE)\n",
    "\n",
    "# gru_optimizer = optim.Adam(gru_model.parameters(), lr=2e-5, weight_decay=0.0001)\n",
    "gru_optimizer = AdamW([\n",
    "    {'params': bert.parameters(), 'lr': 2e-5},\n",
    "    {'params': gru_model.parameters(), 'lr': 0.0001}\n",
    "], weight_decay=0.001)\n",
    "# gru_scheduler = ReduceLROnPlateau(gru_optimizer, patience=5, factor=0.5)\n",
    "gru_scheduler = CosineAnnealingWarmRestarts(gru_optimizer, T_0=5, T_mult=2)"
   ]
  },
  {
   "cell_type": "code",
   "execution_count": 24,
   "metadata": {},
   "outputs": [],
   "source": [
    "lstm_model = MyLSTM(embedding_dim=128, hidden_dim=128, output_dim=6, num_layers=2, dropout=0.5, bidirectional=True,fc_dropout=0.3, input_dropout=0.2).to(DEVICE)\n",
    "\n",
    "lstm_optimizer = optim.Adam(lstm_model.parameters(), lr=2e-4, weight_decay=0.0001) # lr=2e-5 may be optimal for bert \n",
    "# lstm_optimizer = AdamW(lstm_model.parameters(), lr=2e-4, weight_decay=0.01)\n",
    "lstm_scheduler = ReduceLROnPlateau(lstm_optimizer, patience=3, factor=0.5)\n",
    "# lstm_scheduler = optim.lr_scheduler.CosineAnnealingWarmRestarts(lstm_optimizer, T_0=5, T_mult=2)"
   ]
  },
  {
   "cell_type": "code",
   "execution_count": 25,
   "metadata": {},
   "outputs": [],
   "source": [
    "hybrid_model = HybridNN(embedding_dim=768, conv_out_channels=128, kernel_size=4, \n",
    "                 hidden_dim=128, output_dim=6, lstm_layers=2, bidirectional=True, \n",
    "                 dropout=0.4, fc_dropout=0.2, input_dropout=0.1).to(DEVICE)\n",
    "\n",
    "hybrid_optimizer = optim.Adam(hybrid_model.parameters(), lr=0.0001, weight_decay=0.0001)\n",
    "hybrid_scheduler = ReduceLROnPlateau(hybrid_optimizer, patience=3, factor=1e-2)"
   ]
  },
  {
   "cell_type": "code",
   "execution_count": 26,
   "metadata": {},
   "outputs": [],
   "source": [
    "# from sklearn.metrics import classification_report\n",
    "# from sklearn.metrics import accuracy_score\n",
    "\n",
    "# EPOCHS = 25\n",
    "# MODEL = gru_model\n",
    "# OPTIMIZER = gru_optimizer\n",
    "# SCHEDULER = gru_scheduler\n",
    "# lr_history = []\n",
    "# early_stopper = EarlyStopper(patience=4, model=MODEL, min_delta=0.01, save_weights=False)\n",
    "\n",
    "# for epoch in range(EPOCHS):\n",
    "#     MODEL.train()\n",
    "#     running_loss = 0.0\n",
    "\n",
    "#     for batch in train_loader:\n",
    "#         OPTIMIZER.zero_grad() # replace\n",
    "\n",
    "#         input_ids = batch['input_ids'].to(DEVICE)\n",
    "#         attention_mask = batch['attention_mask'].to(DEVICE)\n",
    "#         labels = batch['labels'].to(DEVICE)\n",
    "\n",
    "#         with torch.no_grad():  # BERT embed\n",
    "#             bert_output = bert(input_ids=input_ids, attention_mask=attention_mask)\n",
    "#             embeddings = bert_output.last_hidden_state  # [batch_size, seq_len, 768]\n",
    "\n",
    "#         outputs = MODEL(embeddings) #replace\n",
    "#         loss = loss_fn(outputs, labels)\n",
    "\n",
    "#         loss.backward()\n",
    "#         OPTIMIZER.step() #replace\n",
    "\n",
    "#         running_loss += loss.item()\n",
    "\n",
    "#     avg_train_loss = running_loss / len(train_loader)\n",
    "\n",
    "#     # === VALIDATION ===\n",
    "#     MODEL.eval() #replace\n",
    "#     val_preds = []\n",
    "#     val_labels = []\n",
    "#     val_loss_total = 0.0\n",
    "\n",
    "#     with torch.no_grad():\n",
    "#         for batch in validation_loader:\n",
    "#             input_ids = batch['input_ids'].to(DEVICE)\n",
    "#             attention_mask = batch['attention_mask'].to(DEVICE)\n",
    "#             labels = batch['labels'].to(DEVICE)\n",
    "\n",
    "#             bert_output = bert(input_ids=input_ids, attention_mask=attention_mask)\n",
    "#             embeddings = bert_output.last_hidden_state\n",
    "\n",
    "#             outputs = MODEL(embeddings) #replace\n",
    "#             loss = loss_fn(outputs, labels)\n",
    "\n",
    "#             val_loss_total += loss.item()\n",
    "\n",
    "#             preds = torch.argmax(outputs, dim=1)\n",
    "#             val_preds.extend(preds.cpu().numpy())\n",
    "#             val_labels.extend(labels.cpu().numpy())\n",
    "\n",
    "#     avg_val_loss = val_loss_total / len(validation_loader)\n",
    "#     val_acc = accuracy_score(val_labels, val_preds)\n",
    "\n",
    "#     SCHEDULER.step(avg_val_loss) # replace \n",
    "#     current_lr = OPTIMIZER.param_groups[0]['lr'] #replace\n",
    "#     lr_history.append(current_lr)\n",
    "\n",
    "#     if early_stopper.early_stop(avg_val_loss):             \n",
    "#         print(f\"Early stopping at epoch {epoch+1}\")\n",
    "#         break\n",
    "\n",
    "\n",
    "#     print(f\"Epoch {epoch+1}/{EPOCHS} — Train Loss: {avg_train_loss:.4f} | Val Loss: {avg_val_loss:.4f} | Val Acc: {val_acc:.4f}\")\n",
    "\n",
    "# class_report = classification_report(val_labels, val_preds, target_names=[str(i) for i in range(6)])\n",
    "# print(f\"Classification Report:\\n{class_report}\")\n",
    "\n",
    "# print(\"Train finished\")"
   ]
  },
  {
   "cell_type": "code",
   "execution_count": 27,
   "metadata": {},
   "outputs": [],
   "source": [
    "bert.config.dropout = 0.2"
   ]
  },
  {
   "cell_type": "code",
   "execution_count": null,
   "metadata": {},
   "outputs": [
    {
     "name": "stdout",
     "output_type": "stream",
     "text": [
      "Epoch 1/40 — Train Loss: 0.9208 | Val Loss: 0.4772 | Val Acc: 0.8133\n",
      "Epoch 2/40 — Train Loss: 0.4351 | Val Loss: 0.4205 | Val Acc: 0.8634\n",
      "Epoch 3/40 — Train Loss: 0.3648 | Val Loss: 0.3565 | Val Acc: 0.8604\n",
      "Epoch 4/40 — Train Loss: 0.3105 | Val Loss: 0.3340 | Val Acc: 0.8714\n",
      "Epoch 5/40 — Train Loss: 0.2907 | Val Loss: 0.3729 | Val Acc: 0.8534\n",
      "Epoch 6/40 — Train Loss: 0.2690 | Val Loss: 0.3374 | Val Acc: 0.8544\n",
      "Epoch 7/40 — Train Loss: 0.2364 | Val Loss: 0.3782 | Val Acc: 0.8624\n",
      "Epoch 8/40 — Train Loss: 0.2109 | Val Loss: 0.3664 | Val Acc: 0.8749\n",
      "Early stopping at epoch 9\n",
      "Classification Report:\n",
      "              precision    recall  f1-score   support\n",
      "\n",
      "         joy       0.78      0.91      0.84       274\n",
      "     sadness       0.84      0.82      0.83       212\n",
      "       anger       0.94      0.86      0.90       703\n",
      "        fear       0.64      0.89      0.75       178\n",
      "        love       0.96      0.84      0.90       550\n",
      "    surprise       0.72      0.93      0.81        81\n",
      "\n",
      "    accuracy                           0.86      1998\n",
      "   macro avg       0.81      0.87      0.84      1998\n",
      "weighted avg       0.88      0.86      0.87      1998\n",
      "\n",
      "Train finished\n"
     ]
    }
   ],
   "source": [
    "from sklearn.metrics import classification_report\n",
    "from sklearn.metrics import accuracy_score\n",
    "\n",
    "EPOCHS = 40\n",
    "MODEL = gru_model\n",
    "OPTIMIZER = gru_optimizer\n",
    "SCHEDULER = gru_scheduler\n",
    "lr_history = []\n",
    "early_stopper = EarlyStopper(models=[bert, gru_model], patience=5, min_delta=0.001,restore_best_weights=True, save_weights=False)\n",
    "\n",
    "for epoch in range(EPOCHS):\n",
    "    bert.train()\n",
    "    gru_model.train()\n",
    "    running_loss = 0.0\n",
    "\n",
    "    for batch in train_loader:\n",
    "        gru_optimizer.zero_grad()\n",
    "\n",
    "        input_ids = batch['input_ids'].to(DEVICE)\n",
    "        attention_mask = batch['attention_mask'].to(DEVICE)\n",
    "        labels = batch['labels'].to(DEVICE)\n",
    "\n",
    "        bert_output = bert(input_ids=input_ids, attention_mask=attention_mask)\n",
    "        embeddings = bert_output.last_hidden_state  # [batch_size, seq_len, 768]\n",
    "\n",
    "        outputs = gru_model(embeddings)\n",
    "        loss = loss_fn(outputs, labels)\n",
    "\n",
    "        loss.backward()\n",
    "        gru_optimizer.step()\n",
    "\n",
    "        running_loss += loss.item()\n",
    "\n",
    "    avg_train_loss = running_loss / len(train_loader)\n",
    "\n",
    "    # === VALIDATION ===\n",
    "    bert.eval()\n",
    "    gru_model.eval()\n",
    "    val_preds = []\n",
    "    val_labels = []\n",
    "    val_loss_total = 0.0\n",
    "\n",
    "    with torch.no_grad():\n",
    "        for batch in validation_loader:\n",
    "            input_ids = batch['input_ids'].to(DEVICE)\n",
    "            attention_mask = batch['attention_mask'].to(DEVICE)\n",
    "            labels = batch['labels'].to(DEVICE)\n",
    "\n",
    "            bert_output = bert(input_ids=input_ids, attention_mask=attention_mask)\n",
    "            embeddings = bert_output.last_hidden_state\n",
    "\n",
    "            outputs = gru_model(embeddings)\n",
    "            loss = loss_fn(outputs, labels)\n",
    "\n",
    "            val_loss_total += loss.item()\n",
    "\n",
    "            preds = torch.argmax(outputs, dim=1)\n",
    "            val_preds.extend(preds.cpu().numpy())\n",
    "            val_labels.extend(labels.cpu().numpy())\n",
    "\n",
    "    avg_val_loss = val_loss_total / len(validation_loader)\n",
    "    val_acc = accuracy_score(val_labels, val_preds)\n",
    "\n",
    "    gru_scheduler.step(avg_val_loss)\n",
    "    current_lr = gru_optimizer.param_groups[0]['lr']\n",
    "    lr_history.append(current_lr)\n",
    "\n",
    "    if early_stopper.early_stop(avg_val_loss):\n",
    "        print(f\"Early stopping at epoch {epoch+1}\")\n",
    "        break\n",
    "\n",
    "    print(f\"Epoch {epoch+1}/{EPOCHS} — Train Loss: {avg_train_loss:.4f} | Val Loss: {avg_val_loss:.4f} | Val Acc: {val_acc:.4f}\")\n",
    "\n",
    "# Classification report\n",
    "class_report = classification_report(val_labels, val_preds, target_names=['joy', 'sadness', 'anger', 'fear', 'love', 'surprise'])\n",
    "print(f\"Classification Report:\\n{class_report}\")\n",
    "\n",
    "print(\"Train finished\")"
   ]
  },
  {
   "cell_type": "code",
   "execution_count": 29,
   "metadata": {},
   "outputs": [
    {
     "name": "stdout",
     "output_type": "stream",
     "text": [
      "Best weights loaded after training\n",
      "Validation Loss: 0.3650 | Validation Accuracy: 0.8580\n",
      "Classification Report:\n",
      "              precision    recall  f1-score   support\n",
      "\n",
      "           0       0.86      0.85      0.85       275\n",
      "           1       0.85      0.82      0.83       224\n",
      "           2       0.92      0.87      0.90       695\n",
      "           3       0.60      0.88      0.71       159\n",
      "           4       0.98      0.85      0.91       581\n",
      "           5       0.52      0.94      0.67        66\n",
      "\n",
      "    accuracy                           0.86      2000\n",
      "   macro avg       0.79      0.87      0.81      2000\n",
      "weighted avg       0.88      0.86      0.86      2000\n",
      "\n"
     ]
    }
   ],
   "source": [
    "if early_stopper.best_weights is not None:\n",
    "    bert.load_state_dict(early_stopper.best_weights[0])\n",
    "    MODEL.load_state_dict(early_stopper.best_weights[1])\n",
    "    print(\"Best weights loaded after training\")\n",
    "else:\n",
    "    print(\"No best weights were saved\")\n",
    "\n",
    "MODEL.eval()\n",
    "bert.eval()\n",
    "\n",
    "test_preds = []\n",
    "test_labels = []\n",
    "test_loss_total = 0.0\n",
    "\n",
    "with torch.no_grad():\n",
    "\n",
    "    for batch in test_loader:\n",
    "        input_ids = batch['input_ids'].to(DEVICE)\n",
    "        attention_mask = batch['attention_mask'].to(DEVICE)\n",
    "        labels = batch['labels'].to(DEVICE)\n",
    "\n",
    "        bert_output = bert(input_ids=input_ids, attention_mask=attention_mask)\n",
    "        embeddings = bert_output.last_hidden_state\n",
    "\n",
    "        outputs = MODEL(embeddings)\n",
    "        loss = loss_fn(outputs, labels)\n",
    "        test_loss_total += loss.item()\n",
    "\n",
    "\n",
    "        preds = torch.argmax(outputs, dim=1)\n",
    "\n",
    "        test_preds.extend(preds.cpu().numpy())\n",
    "        test_labels.extend(labels.cpu().numpy())\n",
    "\n",
    "\n",
    "\n",
    "avg_test_loss = test_loss_total / len(test_loader)\n",
    "test_acc = accuracy_score(test_labels, test_preds)\n",
    "\n",
    "print(f\"Validation Loss: {avg_test_loss:.4f} | Validation Accuracy: {test_acc:.4f}\")\n",
    "\n",
    "class_report = classification_report(test_labels, test_preds, target_names=[str(i) for i in range(6)])\n",
    "\n",
    "print(f\"Classification Report:\\n{class_report}\")"
   ]
  },
  {
   "cell_type": "code",
   "execution_count": 31,
   "metadata": {},
   "outputs": [
    {
     "data": {
      "image/png": "[encoded data removed]",
      "text/plain": [
       "<Figure size 640x480 with 1 Axes>"
      ]
     },
     "metadata": {},
     "output_type": "display_data"
    }
   ],
   "source": [
    "plt.plot(range(1, len(lr_history) + 1), lr_history)\n",
    "plt.xlabel(\"Epoch\")\n",
    "plt.ylabel(\"Learning Rate\")\n",
    "plt.title(\"Learning Rate Schedule\")\n",
    "plt.grid(True)\n",
    "plt.show()"
   ]
  },
  {
   "cell_type": "code",
   "execution_count": null,
   "metadata": {},
   "outputs": [],
   "source": []
  }
 ],
 "metadata": {
  "kernelspec": {
   "display_name": "Python 3",
   "language": "python",
   "name": "python3"
  },
  "language_info": {
   "codemirror_mode": {
    "name": "ipython",
    "version": 3
   },
   "file_extension": ".py",
   "mimetype": "text/x-python",
   "name": "python",
   "nbconvert_exporter": "python",
   "pygments_lexer": "ipython3",
   "version": "3.10.12"
  }
 },
 "nbformat": 4,
 "nbformat_minor": 2
}
