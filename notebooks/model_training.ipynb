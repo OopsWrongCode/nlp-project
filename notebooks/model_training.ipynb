{
 "cells": [
  {
   "cell_type": "markdown",
   "metadata": {},
   "source": [
    "This notebook demonstrates steps of creating a pipeline of model training and testing"
   ]
  },
  {
   "cell_type": "markdown",
   "metadata": {},
   "source": [
    "<!-- %pip install -q transformers datasets evaluate -->"
   ]
  },
  {
   "cell_type": "code",
   "execution_count": 1,
   "metadata": {},
   "outputs": [
    {
     "name": "stdout",
     "output_type": "stream",
     "text": [
      "Cloning into 'nlp-project'...\n",
      "remote: Enumerating objects: 129, done.\u001b[K\n",
      "remote: Counting objects: 100% (45/45), done.\u001b[K\n",
      "remote: Compressing objects: 100% (31/31), done.\u001b[K\n",
      "remote: Total 129 (delta 16), reused 38 (delta 12), pack-reused 84 (from 1)\u001b[K\n",
      "Receiving objects: 100% (129/129), 46.71 MiB | 24.35 MiB/s, done.\n",
      "Resolving deltas: 100% (32/32), done.\n"
     ]
    }
   ],
   "source": [
    "!git clone https://github.com/OopsWrongCode/nlp-project.git"
   ]
  },
  {
   "cell_type": "code",
   "execution_count": 2,
   "metadata": {},
   "outputs": [
    {
     "name": "stdout",
     "output_type": "stream",
     "text": [
      "/kaggle/working/nlp-project\n"
     ]
    }
   ],
   "source": [
    "%cd nlp-project/"
   ]
  },
  {
   "cell_type": "code",
   "execution_count": 3,
   "metadata": {},
   "outputs": [
    {
     "name": "stdout",
     "output_type": "stream",
     "text": [
      "Note: you may need to restart the kernel to use updated packages.\n"
     ]
    }
   ],
   "source": [
    "%pip install -q transformers"
   ]
  },
  {
   "cell_type": "code",
   "execution_count": 4,
   "metadata": {},
   "outputs": [],
   "source": [
    "import random\n",
    "import torch.nn as nn\n",
    "import torch\n",
    "from torch.utils.data import Dataset, DataLoader\n",
    "import pandas as pd\n",
    "import numpy as np\n",
    "import matplotlib.pyplot as plt\n",
    "from sklearn.preprocessing import LabelEncoder\n",
    "import warnings\n",
    "warnings.filterwarnings('ignore')\n",
    "# from datasets import Dataset\n",
    "\n",
    "seed = 42\n",
    "random.seed(seed)\n",
    "np.random.seed(seed)\n",
    "torch.manual_seed(seed)\n",
    "torch.cuda.manual_seed(seed)\n",
    "torch.backends.cudnn.deterministic = True"
   ]
  },
  {
   "cell_type": "code",
   "execution_count": null,
   "metadata": {},
   "outputs": [],
   "source": [
    "train = pd.read_csv('/kaggle/working/nlp-project/data/train.csv')\n",
    "test = pd.read_csv('/kaggle/working/nlp-project/data/test.csv')\n",
    "validation = pd.read_csv('/kaggle/working/nlp-project/data/valid.csv')"
   ]
  },
  {
   "cell_type": "code",
   "execution_count": 6,
   "metadata": {},
   "outputs": [],
   "source": [
    "train['token_count'] = [len(sentence.split()) for sentence in train['text']]\n",
    "train['text_length'] = [len(seq) for seq in train['text']]"
   ]
  },
  {
   "cell_type": "code",
   "execution_count": 7,
   "metadata": {},
   "outputs": [
    {
     "data": {
      "text/html": [
       "<div>\n",
       "<style scoped>\n",
       "    .dataframe tbody tr th:only-of-type {\n",
       "        vertical-align: middle;\n",
       "    }\n",
       "\n",
       "    .dataframe tbody tr th {\n",
       "        vertical-align: top;\n",
       "    }\n",
       "\n",
       "    .dataframe thead th {\n",
       "        text-align: right;\n",
       "    }\n",
       "</style>\n",
       "<table border=\"1\" class=\"dataframe\">\n",
       "  <thead>\n",
       "    <tr style=\"text-align: right;\">\n",
       "      <th></th>\n",
       "      <th>text</th>\n",
       "      <th>label</th>\n",
       "      <th>token_count</th>\n",
       "      <th>text_length</th>\n",
       "    </tr>\n",
       "  </thead>\n",
       "  <tbody>\n",
       "    <tr>\n",
       "      <th>0</th>\n",
       "      <td>['didnt', 'feel', 'humiliated']</td>\n",
       "      <td>sadness</td>\n",
       "      <td>3</td>\n",
       "      <td>31</td>\n",
       "    </tr>\n",
       "    <tr>\n",
       "      <th>1</th>\n",
       "      <td>['can', 'go', 'from', 'feeling', 'so', 'hopele...</td>\n",
       "      <td>sadness</td>\n",
       "      <td>20</td>\n",
       "      <td>167</td>\n",
       "    </tr>\n",
       "    <tr>\n",
       "      <th>2</th>\n",
       "      <td>['im', 'grabbing', 'minute', 'to', 'post', 'fe...</td>\n",
       "      <td>anger</td>\n",
       "      <td>8</td>\n",
       "      <td>69</td>\n",
       "    </tr>\n",
       "    <tr>\n",
       "      <th>3</th>\n",
       "      <td>['am', 'ever', 'feeling', 'nostalgic', 'about'...</td>\n",
       "      <td>love</td>\n",
       "      <td>16</td>\n",
       "      <td>137</td>\n",
       "    </tr>\n",
       "    <tr>\n",
       "      <th>4</th>\n",
       "      <td>['am', 'feeling', 'grouchy']</td>\n",
       "      <td>anger</td>\n",
       "      <td>3</td>\n",
       "      <td>28</td>\n",
       "    </tr>\n",
       "  </tbody>\n",
       "</table>\n",
       "</div>"
      ],
      "text/plain": [
       "                                                text    label  token_count  \\\n",
       "0                    ['didnt', 'feel', 'humiliated']  sadness            3   \n",
       "1  ['can', 'go', 'from', 'feeling', 'so', 'hopele...  sadness           20   \n",
       "2  ['im', 'grabbing', 'minute', 'to', 'post', 'fe...    anger            8   \n",
       "3  ['am', 'ever', 'feeling', 'nostalgic', 'about'...     love           16   \n",
       "4                       ['am', 'feeling', 'grouchy']    anger            3   \n",
       "\n",
       "   text_length  \n",
       "0           31  \n",
       "1          167  \n",
       "2           69  \n",
       "3          137  \n",
       "4           28  "
      ]
     },
     "execution_count": 7,
     "metadata": {},
     "output_type": "execute_result"
    }
   ],
   "source": [
    "train.head()"
   ]
  },
  {
   "cell_type": "code",
   "execution_count": 8,
   "metadata": {},
   "outputs": [
    {
     "data": {
      "text/html": [
       "<div>\n",
       "<style scoped>\n",
       "    .dataframe tbody tr th:only-of-type {\n",
       "        vertical-align: middle;\n",
       "    }\n",
       "\n",
       "    .dataframe tbody tr th {\n",
       "        vertical-align: top;\n",
       "    }\n",
       "\n",
       "    .dataframe thead th {\n",
       "        text-align: right;\n",
       "    }\n",
       "</style>\n",
       "<table border=\"1\" class=\"dataframe\">\n",
       "  <thead>\n",
       "    <tr style=\"text-align: right;\">\n",
       "      <th></th>\n",
       "      <th>text</th>\n",
       "      <th>label</th>\n",
       "    </tr>\n",
       "  </thead>\n",
       "  <tbody>\n",
       "    <tr>\n",
       "      <th>0</th>\n",
       "      <td>['im', 'feeling', 'quite', 'sad', 'and', 'sorr...</td>\n",
       "      <td>sadness</td>\n",
       "    </tr>\n",
       "    <tr>\n",
       "      <th>1</th>\n",
       "      <td>['feel', 'like', 'am', 'still', 'looking', 'at...</td>\n",
       "      <td>sadness</td>\n",
       "    </tr>\n",
       "    <tr>\n",
       "      <th>2</th>\n",
       "      <td>['feel', 'like', 'faithful', 'servant']</td>\n",
       "      <td>love</td>\n",
       "    </tr>\n",
       "    <tr>\n",
       "      <th>3</th>\n",
       "      <td>['am', 'just', 'feeling', 'cranky', 'and', 'bl...</td>\n",
       "      <td>anger</td>\n",
       "    </tr>\n",
       "    <tr>\n",
       "      <th>4</th>\n",
       "      <td>['can', 'have', 'for', 'treat', 'or', 'if', 'a...</td>\n",
       "      <td>joy</td>\n",
       "    </tr>\n",
       "  </tbody>\n",
       "</table>\n",
       "</div>"
      ],
      "text/plain": [
       "                                                text    label\n",
       "0  ['im', 'feeling', 'quite', 'sad', 'and', 'sorr...  sadness\n",
       "1  ['feel', 'like', 'am', 'still', 'looking', 'at...  sadness\n",
       "2            ['feel', 'like', 'faithful', 'servant']     love\n",
       "3  ['am', 'just', 'feeling', 'cranky', 'and', 'bl...    anger\n",
       "4  ['can', 'have', 'for', 'treat', 'or', 'if', 'a...      joy"
      ]
     },
     "execution_count": 8,
     "metadata": {},
     "output_type": "execute_result"
    }
   ],
   "source": [
    "validation.head()"
   ]
  },
  {
   "cell_type": "code",
   "execution_count": 9,
   "metadata": {},
   "outputs": [
    {
     "data": {
      "text/html": [
       "<div>\n",
       "<style scoped>\n",
       "    .dataframe tbody tr th:only-of-type {\n",
       "        vertical-align: middle;\n",
       "    }\n",
       "\n",
       "    .dataframe tbody tr th {\n",
       "        vertical-align: top;\n",
       "    }\n",
       "\n",
       "    .dataframe thead th {\n",
       "        text-align: right;\n",
       "    }\n",
       "</style>\n",
       "<table border=\"1\" class=\"dataframe\">\n",
       "  <thead>\n",
       "    <tr style=\"text-align: right;\">\n",
       "      <th></th>\n",
       "      <th>text</th>\n",
       "      <th>label</th>\n",
       "    </tr>\n",
       "  </thead>\n",
       "  <tbody>\n",
       "    <tr>\n",
       "      <th>0</th>\n",
       "      <td>['im', 'feeling', 'rather', 'rotten', 'so', 'i...</td>\n",
       "      <td>sadness</td>\n",
       "    </tr>\n",
       "    <tr>\n",
       "      <th>1</th>\n",
       "      <td>['im', 'updating', 'my', 'blog', 'because', 'f...</td>\n",
       "      <td>sadness</td>\n",
       "    </tr>\n",
       "    <tr>\n",
       "      <th>2</th>\n",
       "      <td>['never', 'make', 'her', 'separate', 'from', '...</td>\n",
       "      <td>sadness</td>\n",
       "    </tr>\n",
       "    <tr>\n",
       "      <th>3</th>\n",
       "      <td>['left', 'with', 'my', 'bouquet', 'of', 'red',...</td>\n",
       "      <td>joy</td>\n",
       "    </tr>\n",
       "    <tr>\n",
       "      <th>4</th>\n",
       "      <td>['was', 'feeling', 'little', 'vain', 'when', '...</td>\n",
       "      <td>sadness</td>\n",
       "    </tr>\n",
       "  </tbody>\n",
       "</table>\n",
       "</div>"
      ],
      "text/plain": [
       "                                                text    label\n",
       "0  ['im', 'feeling', 'rather', 'rotten', 'so', 'i...  sadness\n",
       "1  ['im', 'updating', 'my', 'blog', 'because', 'f...  sadness\n",
       "2  ['never', 'make', 'her', 'separate', 'from', '...  sadness\n",
       "3  ['left', 'with', 'my', 'bouquet', 'of', 'red',...      joy\n",
       "4  ['was', 'feeling', 'little', 'vain', 'when', '...  sadness"
      ]
     },
     "execution_count": 9,
     "metadata": {},
     "output_type": "execute_result"
    }
   ],
   "source": [
    "test.head()"
   ]
  },
  {
   "cell_type": "code",
   "execution_count": 10,
   "metadata": {},
   "outputs": [],
   "source": [
    "mbti_types = train['label'].unique().tolist()\n",
    "\n",
    "label_encoder = LabelEncoder()\n",
    "label_encoder.fit(mbti_types)\n",
    "\n",
    "train['label'] = label_encoder.transform(train['label'])\n",
    "validation['label'] = label_encoder.transform(validation['label'])\n",
    "test['label'] = label_encoder.transform(test['label'])\n"
   ]
  },
  {
   "cell_type": "code",
   "execution_count": 11,
   "metadata": {},
   "outputs": [
    {
     "data": {
      "application/vnd.jupyter.widget-view+json": {
       "model_id": "f42f758ddd4c4fd489fd6727427daaac",
       "version_major": 2,
       "version_minor": 0
      },
      "text/plain": [
       "tokenizer_config.json:   0%|          | 0.00/48.0 [00:00<?, ?B/s]"
      ]
     },
     "metadata": {},
     "output_type": "display_data"
    },
    {
     "data": {
      "application/vnd.jupyter.widget-view+json": {
       "model_id": "89bc7f4ab80140aab83a592e22e63244",
       "version_major": 2,
       "version_minor": 0
      },
      "text/plain": [
       "config.json:   0%|          | 0.00/570 [00:00<?, ?B/s]"
      ]
     },
     "metadata": {},
     "output_type": "display_data"
    },
    {
     "data": {
      "application/vnd.jupyter.widget-view+json": {
       "model_id": "a6ff1c4bf4e6471e929f4422de08567b",
       "version_major": 2,
       "version_minor": 0
      },
      "text/plain": [
       "vocab.txt:   0%|          | 0.00/232k [00:00<?, ?B/s]"
      ]
     },
     "metadata": {},
     "output_type": "display_data"
    },
    {
     "data": {
      "application/vnd.jupyter.widget-view+json": {
       "model_id": "9a88dc4e4f0b46a18b9f718eafb3dbf0",
       "version_major": 2,
       "version_minor": 0
      },
      "text/plain": [
       "tokenizer.json:   0%|          | 0.00/466k [00:00<?, ?B/s]"
      ]
     },
     "metadata": {},
     "output_type": "display_data"
    }
   ],
   "source": [
    "from transformers import AutoTokenizer\n",
    "\n",
    "tokenizer = AutoTokenizer.from_pretrained(\"bert-base-uncased\")\n",
    "\n",
    "class MBTIDataset(Dataset):\n",
    "    def __init__(self, texts, labels=None, tokenizer=None, max_len=128):\n",
    "        self.texts = texts\n",
    "        self.labels = labels\n",
    "        self.tokenizer = tokenizer\n",
    "        self.max_len = max_len\n",
    "\n",
    "    def __getitem__(self, index):\n",
    "        text = str(self.texts[index])\n",
    "        encoding = self.tokenizer(\n",
    "            text,\n",
    "            truncation=True,\n",
    "            padding='max_length',\n",
    "            max_length=self.max_len,\n",
    "            return_tensors='pt'\n",
    "        )\n",
    "\n",
    "        if self.labels is not None:\n",
    "            label = self.labels[index]\n",
    "            return {\n",
    "                'input_ids': encoding['input_ids'].squeeze(0),  # (max_len)\n",
    "                'attention_mask': encoding['attention_mask'].squeeze(0),  # (max_len)\n",
    "                'labels': torch.tensor(label, dtype=torch.long)\n",
    "            }\n",
    "        else:\n",
    "            return {\n",
    "                'input_ids': encoding['input_ids'].squeeze(0),  # (max_len)\n",
    "                'attention_mask': encoding['attention_mask'].squeeze(0),  # (max_len)\n",
    "            }\n",
    "\n",
    "    def __len__(self):\n",
    "        return len(self.texts)"
   ]
  },
  {
   "cell_type": "code",
   "execution_count": 12,
   "metadata": {},
   "outputs": [
    {
     "name": "stdout",
     "output_type": "stream",
     "text": [
      "Max len = 60\n",
      "Min len = 2\n",
      "Avg len = 17.04\n"
     ]
    }
   ],
   "source": [
    "print(f\"Max len = {np.max(train['token_count'])}\\nMin len = {np.min(train['token_count'])}\\nAvg len = {np.round(np.mean(train['token_count']), 2)}\")"
   ]
  },
  {
   "cell_type": "code",
   "execution_count": 13,
   "metadata": {},
   "outputs": [],
   "source": [
    "BATCH_SIZE = 64\n",
    "MAX_LEN = np.max(train['token_count'])\n",
    "DEVICE = torch.device('cuda' if torch.cuda.is_available() else 'cpu')\n",
    "\n",
    "train_dataset = MBTIDataset(texts=train['text'].tolist(), labels=train['label'].tolist(), tokenizer=tokenizer, max_len=MAX_LEN)\n",
    "test_dataset = MBTIDataset(texts=test['text'].tolist(),labels=test['label'].tolist(), tokenizer=tokenizer, max_len=MAX_LEN)\n",
    "validation_dataset = MBTIDataset(texts=validation['text'].tolist(), labels=validation['label'].tolist(), tokenizer=tokenizer, max_len=MAX_LEN)\n",
    "\n",
    "\n",
    "train_loader = DataLoader(train_dataset, batch_size=BATCH_SIZE, shuffle=True)\n",
    "test_loader = DataLoader(test_dataset, batch_size=BATCH_SIZE, shuffle=False)\n",
    "validation_loader = DataLoader(validation_dataset, batch_size=BATCH_SIZE, shuffle=False)"
   ]
  },
  {
   "cell_type": "markdown",
   "metadata": {},
   "source": [
    "For regularization, we employ two commonly used\n",
    "techniques: dropout (Hinton et al., 2012) and L2\n",
    "weight regularization. We apply dropout to prevent co-adaptation. In our model, we either apply\n",
    "dropout to word vectors before feeding the sequence\n",
    "of words into the convolutional layer or to the output\n",
    "of LSTM before the softmax layer. The L2 regularization is applied to the weight of the softmax layer. (https://arxiv.org/pdf/1511.08630)"
   ]
  },
  {
   "cell_type": "code",
   "execution_count": 14,
   "metadata": {},
   "outputs": [],
   "source": [
    "class MyLSTM(nn.Module):\n",
    "    def __init__(self, embedding_dim, hidden_dim, output_dim=6, num_layers=1, bidirectional=False, dropout=0.3, fc_dropout=0.3, input_dropout=0.2):\n",
    "        super(MyLSTM, self).__init__()\n",
    "\n",
    "        \n",
    "        self.input_dropout = nn.Dropout(input_dropout) # \n",
    "\n",
    "        self.lstm = nn.LSTM(\n",
    "            input_size=embedding_dim, # 768\n",
    "            hidden_size=hidden_dim,\n",
    "            num_layers=num_layers,\n",
    "            bidirectional=bidirectional,\n",
    "            dropout=dropout if num_layers > 1 else 0,\n",
    "            batch_first=True\n",
    "        )\n",
    "        # LAYER 2: Fully-connected\n",
    "        self.fc_dropout = nn.Dropout(fc_dropout)\n",
    "        self.fc = nn.Linear(\n",
    "            hidden_dim * (2 if bidirectional else 1),\n",
    "            output_dim\n",
    "        )\n",
    "\n",
    "    def forward(self, bert_embeddings):  # [batch_size, seq_len, embedding_dim]\n",
    "\n",
    "        # Dropout on BERT-embeddings\n",
    "        x = self.input_dropout(bert_embeddings)\n",
    "\n",
    "        lstm_output, (h_n, c_n) = self.lstm(x)\n",
    "\n",
    "        if self.lstm.bidirectional:\n",
    "            h_final = torch.cat((h_n[-2], h_n[-1]), dim=1)\n",
    "        else:\n",
    "            h_final = h_n[-1]\n",
    "\n",
    "        h_final = self.fc_dropout(h_final)\n",
    "        out = self.fc(h_final)\n",
    "        return out"
   ]
  },
  {
   "cell_type": "code",
   "execution_count": 15,
   "metadata": {},
   "outputs": [],
   "source": [
    "class MyGRU(nn.Module):\n",
    "    def __init__(self, embedding_dim, hidden_dim, output_dim=6, num_layers=1, bidirectional=False, dropout=0.3, fc_dropout=0.1):\n",
    "        super(MyGRU, self).__init__()\n",
    "\n",
    "        self.gru = nn.GRU(\n",
    "            input_size=embedding_dim,\n",
    "            hidden_size=hidden_dim,\n",
    "            num_layers=num_layers,\n",
    "            bidirectional=bidirectional,\n",
    "            dropout=dropout if num_layers > 1 else 0,\n",
    "            batch_first=True\n",
    "        )\n",
    "        self.fc_dropout = nn.Dropout(fc_dropout)\n",
    "        self.fc = nn.Linear(hidden_dim * (2 if bidirectional else 1), output_dim)\n",
    "\n",
    "    def forward(self, x): \n",
    "        gru_output, h_n = self.gru(x)\n",
    "\n",
    "        if self.gru.bidirectional:\n",
    "            h_final = torch.cat((h_n[-2], h_n[-1]), dim=1)\n",
    "        else:\n",
    "            h_final = h_n[-1]\n",
    "\n",
    "        h_final = self.fc_dropout(h_final)\n",
    "        out = self.fc(h_final)\n",
    "        return out"
   ]
  },
  {
   "cell_type": "code",
   "execution_count": null,
   "metadata": {},
   "outputs": [],
   "source": [
    "# C-LSTM: https://arxiv.org/pdf/1511.08630\n",
    "\n",
    "class HybridNN(nn.Module):\n",
    "    def __init__(self, embedding_dim=768, conv_out_channels=256, kernel_size=3, \n",
    "                 hidden_dim=256, output_dim=6, lstm_layers=2, bidirectional=True, \n",
    "                 dropout=0.4, fc_dropout=0.2, input_dropout=0.1):\n",
    "        super(HybridNN, self).__init__()\n",
    "\n",
    "        self.input_dropout = nn.Dropout(input_dropout)\n",
    "\n",
    "        # CNN block\n",
    "        self.conv1 = nn.Conv1d(in_channels=embedding_dim,\n",
    "                               out_channels=conv_out_channels,\n",
    "                               kernel_size=kernel_size,\n",
    "                               padding=1)\n",
    "        self.conv2 = nn.Conv1d(in_channels=conv_out_channels,\n",
    "                               out_channels=conv_out_channels,\n",
    "                               kernel_size=kernel_size,\n",
    "                               padding=1)\n",
    "\n",
    "        self.spatial_dropout = nn.Dropout2d(0.3)\n",
    "        self.gelu = nn.GELU()\n",
    "\n",
    "        # LSTM\n",
    "        self.lstm = nn.LSTM(input_size=conv_out_channels,\n",
    "                            hidden_size=hidden_dim,\n",
    "                            num_layers=lstm_layers,\n",
    "                            bidirectional=bidirectional,\n",
    "                            dropout=dropout if lstm_layers > 1 else 0,\n",
    "                            batch_first=True)\n",
    "\n",
    "        self.attn_linear = nn.Linear(hidden_dim * (2 if bidirectional else 1), 1)\n",
    "\n",
    "        # Output\n",
    "        self.fc_dropout = nn.Dropout(fc_dropout)\n",
    "        self.fc = nn.Linear(hidden_dim * (2 if bidirectional else 1), output_dim)\n",
    "\n",
    "    def forward(self, embeddings):\n",
    "        # Dropout input\n",
    "        x = self.input_dropout(embeddings)  # [batch_size, seq_len, embedding_dim]\n",
    "        # Conv1D\n",
    "        x = x.permute(0, 2, 1)                 # [B, seq, emb]\n",
    "        x = self.gelu(self.conv1(x))\n",
    "        x = self.gelu(self.conv2(x))\n",
    "        x = x.permute(0, 2, 1)                 # LSTM\n",
    "        x = self.spatial_dropout(x) \n",
    "\n",
    "\n",
    "        # LSTM\n",
    "        lstm_out, _ = self.lstm(x)  # [batch_size, seq_len, hidden_dim*2]\n",
    "\n",
    "        # Attention mechanism\n",
    "        attn_weights = torch.softmax(self.attn_linear(lstm_out), dim=1)  # [batch_size, seq_len, 1]\n",
    "        attn_output = torch.sum(lstm_out * attn_weights, dim=1)  # [batch_size, hidden_dim*2]\n",
    "\n",
    "        # FC\n",
    "        out = self.fc_dropout(attn_output)\n",
    "        out = self.fc(out)\n",
    "\n",
    "        return out"
   ]
  },
  {
   "cell_type": "code",
   "execution_count": 17,
   "metadata": {},
   "outputs": [
    {
     "data": {
      "application/vnd.jupyter.widget-view+json": {
       "model_id": "c27463ed3b26413d96b5156e738e9750",
       "version_major": 2,
       "version_minor": 0
      },
      "text/plain": [
       "model.safetensors:   0%|          | 0.00/440M [00:00<?, ?B/s]"
      ]
     },
     "metadata": {},
     "output_type": "display_data"
    }
   ],
   "source": [
    "from transformers import AutoModel\n",
    "\n",
    "bert = AutoModel.from_pretrained(\"bert-base-uncased\").to(DEVICE)"
   ]
  },
  {
   "cell_type": "code",
   "execution_count": 18,
   "metadata": {},
   "outputs": [],
   "source": [
    "from sklearn.utils.class_weight import compute_class_weight\n",
    "\n",
    "class_weights = compute_class_weight('balanced', classes=np.unique(train.label), y=train.label)\n",
    "class_weights = torch.tensor(class_weights, dtype=torch.float).to(DEVICE)"
   ]
  },
  {
   "cell_type": "code",
   "execution_count": 84,
   "metadata": {},
   "outputs": [
    {
     "data": {
      "text/plain": [
       "tensor([1.2350, 1.3769, 0.4975, 2.0489, 0.5706, 4.6857], device='cuda:0')"
      ]
     },
     "execution_count": 84,
     "metadata": {},
     "output_type": "execute_result"
    }
   ],
   "source": [
    "class_weights"
   ]
  },
  {
   "cell_type": "code",
   "execution_count": null,
   "metadata": {},
   "outputs": [],
   "source": [
    "# class_weights[5] = class_weights[5] * 1.15"
   ]
  },
  {
   "cell_type": "code",
   "execution_count": 20,
   "metadata": {},
   "outputs": [],
   "source": [
    "import torch.optim as optim\n",
    "from torch.optim.lr_scheduler import ReduceLROnPlateau\n",
    "\n",
    "loss_fn = nn.CrossEntropyLoss(weight=class_weights)\n",
    "# VOCAB_SIZE = len(tokenizer)\n",
    "\n",
    "gru_model = MyGRU(embedding_dim=768, hidden_dim=128, output_dim=6, num_layers=5, dropout=0.3,fc_dropout=0.2, bidirectional=True).to(DEVICE)\n",
    "\n",
    "gru_optimizer = optim.Adam(gru_model.parameters(), lr=0.001)\n",
    "gru_scheduler = ReduceLROnPlateau(gru_optimizer, patience=3, factor=0.1)"
   ]
  },
  {
   "cell_type": "code",
   "execution_count": 21,
   "metadata": {},
   "outputs": [],
   "source": [
    "# class_weights[5] = class_weights[5] * 1.1"
   ]
  },
  {
   "cell_type": "code",
   "execution_count": 22,
   "metadata": {},
   "outputs": [],
   "source": [
    "lstm_model = MyLSTM(embedding_dim=768, hidden_dim=128, output_dim=6, num_layers=2, dropout=0.5, bidirectional=True).to(DEVICE)\n",
    "\n",
    "lstm_optimizer = optim.Adam(lstm_model.parameters(), lr=0.001, weight_decay=0.0001)\n",
    "lstm_scheduler = ReduceLROnPlateau(lstm_optimizer, patience=3, factor=1e-2)"
   ]
  },
  {
   "cell_type": "code",
   "execution_count": null,
   "metadata": {},
   "outputs": [],
   "source": [
    "hybrid_model = HybridNN(embedding_dim=768, conv_out_channels=128, kernel_size=4, \n",
    "                 hidden_dim=128, output_dim=6, lstm_layers=2, bidirectional=True, \n",
    "                 dropout=0.4, fc_dropout=0.2, input_dropout=0.1).to(DEVICE)\n",
    "\n",
    "hybrid_optimizer = optim.Adam(hybrid_model.parameters(), lr=0.001, weight_decay=0.0001)\n",
    "hybrid_scheduler = ReduceLROnPlateau(hybrid_optimizer, patience=3, factor=1e-2)"
   ]
  },
  {
   "cell_type": "code",
   "execution_count": 96,
   "metadata": {},
   "outputs": [],
   "source": [
    "import copy\n",
    "\n",
    "class EarlyStopper:\n",
    "    def __init__(self, model, patience=3, min_delta=0.01, restore_best_weights=True, save_weights=False):\n",
    "        self.model = model\n",
    "        self.patience = patience\n",
    "        self.min_delta = min_delta\n",
    "        self.counter = 0\n",
    "        self.min_validation_loss = float('inf')\n",
    "        self.best_weights = None\n",
    "        self.restore_best_weights = restore_best_weights\n",
    "        self.save_weights = save_weights\n",
    "\n",
    "    def early_stop(self, validation_loss):\n",
    "        if validation_loss < self.min_validation_loss - self.min_delta:\n",
    "            self.min_validation_loss = validation_loss\n",
    "            self.counter = 0\n",
    "            if self.restore_best_weights:\n",
    "                self.best_weights = copy.deepcopy(self.model.state_dict())\n",
    "\n",
    "        else:\n",
    "            self.counter += 1\n",
    "            if self.counter >= self.patience:\n",
    "                if self.restore_best_weights and self.best_weights is not None:\n",
    "                    self.model.load_state_dict(self.best_weights)\n",
    "                    if self.save_weights:\n",
    "                        torch.save(self.best_weights, f'{self.model.__class__.__name__}_best_weights.pt')\n",
    "                        print(f\"Weights has been saved\")\n",
    "                return True\n",
    "\n",
    "        return False\n",
    "\n",
    "# source: https://stackoverflow.com/questions/71998978/early-stopping-in-pytorch"
   ]
  },
  {
   "cell_type": "code",
   "execution_count": 97,
   "metadata": {},
   "outputs": [
    {
     "name": "stdout",
     "output_type": "stream",
     "text": [
      "Epoch 1/25 — Train Loss: 1.7446 | Val Loss: 1.6574 | Val Acc: 0.1927\n",
      "Epoch 2/25 — Train Loss: 1.5875 | Val Loss: 1.5415 | Val Acc: 0.4449\n",
      "Epoch 3/25 — Train Loss: 1.5164 | Val Loss: 1.4982 | Val Acc: 0.2107\n",
      "Epoch 4/25 — Train Loss: 1.3339 | Val Loss: 1.2724 | Val Acc: 0.3829\n",
      "Epoch 5/25 — Train Loss: 1.1819 | Val Loss: 1.1049 | Val Acc: 0.4204\n",
      "Epoch 6/25 — Train Loss: 1.1154 | Val Loss: 1.0185 | Val Acc: 0.4309\n",
      "Epoch 7/25 — Train Loss: 1.0439 | Val Loss: 0.9915 | Val Acc: 0.6001\n",
      "Epoch 8/25 — Train Loss: 0.9405 | Val Loss: 0.8598 | Val Acc: 0.6466\n",
      "Epoch 9/25 — Train Loss: 0.8360 | Val Loss: 0.8052 | Val Acc: 0.7247\n",
      "Epoch 10/25 — Train Loss: 0.7510 | Val Loss: 0.7851 | Val Acc: 0.7257\n",
      "Epoch 11/25 — Train Loss: 0.6919 | Val Loss: 0.6994 | Val Acc: 0.7367\n",
      "Epoch 12/25 — Train Loss: 0.6894 | Val Loss: 0.6847 | Val Acc: 0.7362\n",
      "Epoch 13/25 — Train Loss: 0.6496 | Val Loss: 0.6775 | Val Acc: 0.7207\n",
      "Epoch 14/25 — Train Loss: 0.6218 | Val Loss: 0.6170 | Val Acc: 0.7427\n",
      "Epoch 15/25 — Train Loss: 0.5934 | Val Loss: 0.6382 | Val Acc: 0.7723\n",
      "Epoch 16/25 — Train Loss: 0.5790 | Val Loss: 0.6165 | Val Acc: 0.7673\n",
      "Epoch 17/25 — Train Loss: 0.5658 | Val Loss: 0.6369 | Val Acc: 0.7412\n",
      "Epoch 18/25 — Train Loss: 0.5610 | Val Loss: 0.6046 | Val Acc: 0.7838\n",
      "Epoch 19/25 — Train Loss: 0.5471 | Val Loss: 0.6220 | Val Acc: 0.7477\n",
      "Epoch 20/25 — Train Loss: 0.5298 | Val Loss: 0.6331 | Val Acc: 0.7813\n",
      "Epoch 21/25 — Train Loss: 0.5214 | Val Loss: 0.6188 | Val Acc: 0.7603\n",
      "Epoch 22/25 — Train Loss: 0.5187 | Val Loss: 0.5844 | Val Acc: 0.7803\n",
      "Epoch 23/25 — Train Loss: 0.5129 | Val Loss: 0.6014 | Val Acc: 0.7563\n",
      "Epoch 24/25 — Train Loss: 0.5328 | Val Loss: 0.5898 | Val Acc: 0.7723\n",
      "Epoch 25/25 — Train Loss: 0.5182 | Val Loss: 0.6327 | Val Acc: 0.7688\n",
      "Classification Report:\n",
      "              precision    recall  f1-score   support\n",
      "\n",
      "           0       0.77      0.78      0.77       274\n",
      "           1       0.90      0.66      0.76       212\n",
      "           2       0.88      0.76      0.82       703\n",
      "           3       0.46      0.84      0.59       178\n",
      "           4       0.89      0.78      0.83       550\n",
      "           5       0.46      0.88      0.60        81\n",
      "\n",
      "    accuracy                           0.77      1998\n",
      "   macro avg       0.73      0.78      0.73      1998\n",
      "weighted avg       0.82      0.77      0.78      1998\n",
      "\n",
      "Train finished\n"
     ]
    }
   ],
   "source": [
    "from sklearn.metrics import classification_report\n",
    "from sklearn.metrics import accuracy_score\n",
    "\n",
    "EPOCHS = 25\n",
    "MODEL = hybrid_model\n",
    "OPTIMIZER = hybrid_optimizer\n",
    "lr_history = []\n",
    "early_stopper = EarlyStopper(patience=4, model=MODEL, min_delta=0.01, save_weights=False)\n",
    "\n",
    "for epoch in range(EPOCHS):\n",
    "    MODEL.train() #replace\n",
    "    running_loss = 0.0\n",
    "\n",
    "    for batch in train_loader:\n",
    "        OPTIMIZER.zero_grad() # replace\n",
    "\n",
    "        input_ids = batch['input_ids'].to(DEVICE)\n",
    "        attention_mask = batch['attention_mask'].to(DEVICE)\n",
    "        labels = batch['labels'].to(DEVICE)\n",
    "\n",
    "        with torch.no_grad():  # BERT embed\n",
    "            bert_output = bert(input_ids=input_ids, attention_mask=attention_mask)\n",
    "            embeddings = bert_output.last_hidden_state  # [batch_size, seq_len, 768]\n",
    "\n",
    "        outputs = MODEL(embeddings) #replace\n",
    "        loss = loss_fn(outputs, labels)\n",
    "\n",
    "        loss.backward()\n",
    "        OPTIMIZER.step() #replace\n",
    "\n",
    "        running_loss += loss.item()\n",
    "\n",
    "    avg_train_loss = running_loss / len(train_loader)\n",
    "\n",
    "    # === VALIDATION ===\n",
    "    MODEL.eval() #replace\n",
    "    val_preds = []\n",
    "    val_labels = []\n",
    "    val_loss_total = 0.0\n",
    "\n",
    "    with torch.no_grad():\n",
    "        for batch in validation_loader:\n",
    "            input_ids = batch['input_ids'].to(DEVICE)\n",
    "            attention_mask = batch['attention_mask'].to(DEVICE)\n",
    "            labels = batch['labels'].to(DEVICE)\n",
    "\n",
    "            bert_output = bert(input_ids=input_ids, attention_mask=attention_mask)\n",
    "            embeddings = bert_output.last_hidden_state\n",
    "\n",
    "            outputs = MODEL(embeddings) #replace\n",
    "            loss = loss_fn(outputs, labels)\n",
    "\n",
    "            val_loss_total += loss.item()\n",
    "\n",
    "            preds = torch.argmax(outputs, dim=1)\n",
    "            val_preds.extend(preds.cpu().numpy())\n",
    "            val_labels.extend(labels.cpu().numpy())\n",
    "\n",
    "    avg_val_loss = val_loss_total / len(validation_loader)\n",
    "    val_acc = accuracy_score(val_labels, val_preds)\n",
    "\n",
    "    hybrid_scheduler.step(avg_val_loss) # replace \n",
    "    current_lr = OPTIMIZER.param_groups[0]['lr'] #replace\n",
    "    lr_history.append(current_lr)\n",
    "\n",
    "    if early_stopper.early_stop(avg_val_loss):             \n",
    "        print(f\"Early stopping at epoch {epoch+1}\")\n",
    "        break\n",
    "\n",
    "\n",
    "    print(f\"Epoch {epoch+1}/{EPOCHS} — Train Loss: {avg_train_loss:.4f} | Val Loss: {avg_val_loss:.4f} | Val Acc: {val_acc:.4f}\")\n",
    "\n",
    "class_report = classification_report(val_labels, val_preds, target_names=[str(i) for i in range(6)])\n",
    "print(f\"Classification Report:\\n{class_report}\")\n",
    "\n",
    "print(\"Train finished\")"
   ]
  },
  {
   "cell_type": "code",
   "execution_count": 100,
   "metadata": {},
   "outputs": [
    {
     "name": "stdout",
     "output_type": "stream",
     "text": [
      "Best weights loaded after training\n"
     ]
    }
   ],
   "source": [
    "if early_stopper.best_weights is not None:\n",
    "    MODEL.load_state_dict(early_stopper.best_weights)\n",
    "    print(\"Best weights loaded after training\")\n",
    "else:\n",
    "    print(\"No best weights were saved (maybe early stop didn’t trigger?)\")"
   ]
  },
  {
   "cell_type": "code",
   "execution_count": 101,
   "metadata": {},
   "outputs": [
    {
     "name": "stdout",
     "output_type": "stream",
     "text": [
      "Validation Loss: 0.6805 | Validation Accuracy: 0.7750\n"
     ]
    }
   ],
   "source": [
    "MODEL.load_state_dict(early_stopper.best_weights)\n",
    "MODEL.eval()\n",
    "\n",
    "test_preds = []\n",
    "test_labels = []\n",
    "test_loss_total = 0.0\n",
    "\n",
    "with torch.no_grad():\n",
    "\n",
    "    for batch in test_loader:\n",
    "        input_ids = batch['input_ids'].to(DEVICE)\n",
    "        attention_mask = batch['attention_mask'].to(DEVICE)\n",
    "        labels = batch['labels'].to(DEVICE)\n",
    "\n",
    "        bert_output = bert(input_ids=input_ids, attention_mask=attention_mask)\n",
    "        embeddings = bert_output.last_hidden_state\n",
    "\n",
    "        outputs = MODEL(embeddings)\n",
    "        loss = loss_fn(outputs, labels)\n",
    "        test_loss_total += loss.item()\n",
    "\n",
    "\n",
    "        preds = torch.argmax(outputs, dim=1)\n",
    "\n",
    "        test_preds.extend(preds.cpu().numpy())\n",
    "        test_labels.extend(labels.cpu().numpy())\n",
    "\n",
    "\n",
    "\n",
    "avg_test_loss = test_loss_total / len(test_loader)\n",
    "test_acc = accuracy_score(test_labels, test_preds)\n",
    "\n",
    "print(f\"Validation Loss: {avg_test_loss:.4f} | Validation Accuracy: {test_acc:.4f}\")"
   ]
  },
  {
   "cell_type": "code",
   "execution_count": 85,
   "metadata": {},
   "outputs": [
    {
     "data": {
      "image/png": "[encoded data removed]",
      "text/plain": [
       "<Figure size 640x480 with 1 Axes>"
      ]
     },
     "metadata": {},
     "output_type": "display_data"
    }
   ],
   "source": [
    "plt.plot(range(1, len(lr_history) + 1), lr_history)\n",
    "plt.xlabel(\"Epoch\")\n",
    "plt.ylabel(\"Learning Rate\")\n",
    "plt.title(\"Learning Rate Schedule\")\n",
    "plt.grid(True)\n",
    "plt.show()"
   ]
  },
  {
   "cell_type": "code",
   "execution_count": null,
   "metadata": {},
   "outputs": [],
   "source": []
  }
 ],
 "metadata": {
  "kernelspec": {
   "display_name": "Python 3",
   "language": "python",
   "name": "python3"
  },
  "language_info": {
   "codemirror_mode": {
    "name": "ipython",
    "version": 3
   },
   "file_extension": ".py",
   "mimetype": "text/x-python",
   "name": "python",
   "nbconvert_exporter": "python",
   "pygments_lexer": "ipython3",
   "version": "3.13.2"
  }
 },
 "nbformat": 4,
 "nbformat_minor": 2
}
